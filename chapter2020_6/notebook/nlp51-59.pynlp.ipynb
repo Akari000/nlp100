{
 "cells": [
  {
   "cell_type": "markdown",
   "metadata": {},
   "source": [
    "## 51. 特徴量抽出\n",
    "学習データ，検証データ，評価データから特徴量を抽出し，それぞれtrain.feature.txt，valid.feature.txt，test.feature.txtというファイル名で保存せよ． なお，カテゴリ分類に有用そうな特徴量は各自で自由に設計せよ．記事の見出しを単語列に変換したものが最低限のベースラインとなるであろう．"
   ]
  },
  {
   "cell_type": "code",
   "execution_count": 1,
   "metadata": {},
   "outputs": [
    {
     "name": "stderr",
     "output_type": "stream",
     "text": [
      "/Users/hagaakari/.pyenv/versions/3.8.0/lib/python3.8/site-packages/tqdm/std.py:668: FutureWarning: The Panel class is removed from pandas. Accessing it from the top-level namespace will also be removed in the next version\n",
      "  from pandas import Panel\n"
     ]
    }
   ],
   "source": [
    "import pandas as pd\n",
    "import numpy as np\n",
    "from tqdm import tqdm\n",
    "tqdm.pandas()\n",
    "\n",
    "\n",
    "columns = ('id',\n",
    "           'title',\n",
    "           'category',\n",
    "           'story')\n",
    "\n",
    "train = pd.read_csv('../../data/NewsAggregatorDataset/train.feature.txt',\n",
    "                    names=columns, sep='\\t')\n",
    "valid = pd.read_csv('../../data/NewsAggregatorDataset/valid.feature.txt',\n",
    "                    names=columns, sep='\\t')\n",
    "test = pd.read_csv('../../data/NewsAggregatorDataset/test.feature.txt',\n",
    "                   names=columns, sep='\\t')"
   ]
  },
  {
   "cell_type": "code",
   "execution_count": 2,
   "metadata": {},
   "outputs": [],
   "source": [
    "import re\n",
    "\n",
    "def tokenize(doc):\n",
    "    doc = re.sub(r\"[',.]\", '', doc)  # 記号を削除\n",
    "    tokens = doc.split(' ')\n",
    "    tokens = [token.lower() for token in tokens]  # 小文字に統一\n",
    "    return tokens\n",
    "\n",
    "def preprocessor(tokens):\n",
    "    tokens = [token for token in tokens if token in vocab]\n",
    "    return tokens\n",
    "\n",
    "def bag_of_words(doc):\n",
    "    vector = [0]*len(vocab)\n",
    "    for word in doc:\n",
    "        if word in vocab:\n",
    "            vector[vocab.index(word)] += 1\n",
    "    return pd.Series(vector)"
   ]
  },
  {
   "cell_type": "code",
   "execution_count": 3,
   "metadata": {},
   "outputs": [],
   "source": [
    "# vocabulary\n",
    "from collections import Counter\n",
    "\n",
    "train['tokens'] = train.title.apply(tokenize)\n",
    "vocab = train['tokens'].tolist()\n",
    "vocab = sum(vocab, [])  # flat list\n",
    "counter = Counter(vocab)\n",
    "vocab = [\n",
    "    token\n",
    "    for token, freq in counter.most_common()\n",
    "    if 2 < freq < 300\n",
    "]"
   ]
  },
  {
   "cell_type": "code",
   "execution_count": 4,
   "metadata": {},
   "outputs": [
    {
     "name": "stderr",
     "output_type": "stream",
     "text": [
      "100%|██████████| 10672/10672 [00:05<00:00, 1885.43it/s]\n",
      "100%|██████████| 10672/10672 [00:31<00:00, 342.40it/s]\n",
      "100%|██████████| 1334/1334 [00:00<00:00, 1910.19it/s]\n",
      "100%|██████████| 1334/1334 [00:02<00:00, 446.54it/s]\n",
      "100%|██████████| 1334/1334 [00:00<00:00, 2146.83it/s]\n",
      "100%|██████████| 1334/1334 [00:02<00:00, 478.43it/s]\n"
     ]
    }
   ],
   "source": [
    "train['tokens'] = train.tokens.progress_apply(preprocessor)\n",
    "X_train = train.tokens.progress_apply(bag_of_words)\n",
    "\n",
    "test['tokens'] = test.title.apply(tokenize)\n",
    "test['tokens'] = test.tokens.progress_apply(preprocessor)\n",
    "X_test = test.tokens.progress_apply(bag_of_words)\n",
    "\n",
    "valid['tokens'] = valid.title.apply(tokenize)\n",
    "valid['tokens'] = valid.tokens.progress_apply(preprocessor)\n",
    "X_valid = valid.tokens.progress_apply(bag_of_words)"
   ]
  },
  {
   "cell_type": "markdown",
   "metadata": {},
   "source": [
    "## 52. 学習\n",
    "51で構築した学習データを用いて，ロジスティック回帰モデルを学習せよ．"
   ]
  },
  {
   "cell_type": "code",
   "execution_count": 5,
   "metadata": {},
   "outputs": [
    {
     "name": "stderr",
     "output_type": "stream",
     "text": [
      "/Users/hagaakari/.pyenv/versions/3.8.0/lib/python3.8/site-packages/sklearn/linear_model/_logistic.py:938: ConvergenceWarning: lbfgs failed to converge (status=1):\n",
      "STOP: TOTAL NO. of ITERATIONS REACHED LIMIT.\n",
      "\n",
      "Increase the number of iterations (max_iter) or scale the data as shown in:\n",
      "    https://scikit-learn.org/stable/modules/preprocessing.html\n",
      "Please also refer to the documentation for alternative solver options:\n",
      "    https://scikit-learn.org/stable/modules/linear_model.html#logistic-regression\n",
      "  n_iter_i = _check_optimize_result(\n"
     ]
    },
    {
     "data": {
      "text/plain": [
       "LogisticRegression(C=1.0, class_weight='balanced', dual=False,\n",
       "                   fit_intercept=True, intercept_scaling=1, l1_ratio=None,\n",
       "                   max_iter=100, multi_class='auto', n_jobs=None, penalty='l2',\n",
       "                   random_state=None, solver='lbfgs', tol=0.0001, verbose=0,\n",
       "                   warm_start=False)"
      ]
     },
     "execution_count": 5,
     "metadata": {},
     "output_type": "execute_result"
    }
   ],
   "source": [
    "from sklearn.linear_model import LogisticRegression\n",
    "\n",
    "Y_train = train['category'].map({'b': 0, 't': 1, 'e': 2, 'm': 3}) # クラスを定義\n",
    "lr = LogisticRegression(class_weight='balanced') # ロジスティック回帰モデルのインスタンスを作成\n",
    "lr.fit(X_train, Y_train) # ロジスティック回帰モデルの重みを学習"
   ]
  },
  {
   "cell_type": "markdown",
   "metadata": {},
   "source": [
    "## 53. 予測\n",
    "52で学習したロジスティック回帰モデルを用い，与えられた記事見出しからカテゴリとその予測確率を計算するプログラムを実装せよ．"
   ]
  },
  {
   "cell_type": "code",
   "execution_count": 7,
   "metadata": {},
   "outputs": [
    {
     "name": "stdout",
     "output_type": "stream",
     "text": [
      "予測ラベル [3 0 2 2 0 0 0 1 2 0]\n",
      "正解 [3, 0, 2, 2, 0, 0, 0, 1, 2, 0]\n"
     ]
    }
   ],
   "source": [
    "#  訓練データで予測\n",
    " \n",
    "Y_pred = lr.predict(X_train)\n",
    "Y_true = train['category'].map({'b': 0, 't': 1, 'e': 2, 'm': 3})\n",
    "print('予測ラベル', Y_pred[:10])\n",
    "print('正解', Y_true.head(10).tolist())"
   ]
  },
  {
   "cell_type": "code",
   "execution_count": 8,
   "metadata": {},
   "outputs": [
    {
     "name": "stdout",
     "output_type": "stream",
     "text": [
      "予測ラベル [1 2 0 1 2 2 3 0 0 2]\n",
      "正解 [1, 2, 0, 1, 2, 2, 3, 0, 0, 2]\n"
     ]
    }
   ],
   "source": [
    "# 評価データで予測\n",
    "\n",
    "Y_pred = lr.predict(X_test)\n",
    "Y_true = test['category'].map({'b': 0, 't': 1, 'e': 2, 'm': 3})\n",
    "print('予測ラベル', Y_pred[:10])\n",
    "print('正解', Y_true.head(10).tolist())"
   ]
  },
  {
   "cell_type": "markdown",
   "metadata": {},
   "source": [
    "## 54. 正解率の計測\n",
    "52で学習したロジスティック回帰モデルの正解率を，学習データおよび評価データ上で計測せよ．"
   ]
  },
  {
   "cell_type": "code",
   "execution_count": 9,
   "metadata": {},
   "outputs": [],
   "source": [
    "def accuracy(predict, y):\n",
    "    return (predict == y).mean()"
   ]
  },
  {
   "cell_type": "code",
   "execution_count": 10,
   "metadata": {},
   "outputs": [
    {
     "name": "stderr",
     "output_type": "stream",
     "text": [
      "100%|██████████| 10672/10672 [00:24<00:00, 437.82it/s]\n"
     ]
    },
    {
     "name": "stdout",
     "output_type": "stream",
     "text": [
      "正解率 0.9845389805097451\n"
     ]
    }
   ],
   "source": [
    "#  訓練データの正解率\n",
    "\n",
    "X_train = train.tokens.progress_apply(bag_of_words)\n",
    "Y_pred = lr.predict(X_train)\n",
    "Y_true = train['category'].map({'b': 0, 't': 1, 'e': 2, 'm': 3})\n",
    "\n",
    "print('正解率', accuracy(Y_pred, Y_true))\n",
    "# doc2vecでは 0.3256184407796102"
   ]
  },
  {
   "cell_type": "code",
   "execution_count": 12,
   "metadata": {
    "scrolled": true
   },
   "outputs": [
    {
     "name": "stderr",
     "output_type": "stream",
     "text": [
      "100%|██████████| 1334/1334 [00:03<00:00, 403.68it/s]"
     ]
    },
    {
     "name": "stdout",
     "output_type": "stream",
     "text": [
      "正解率 0.8958020989505248\n"
     ]
    },
    {
     "name": "stderr",
     "output_type": "stream",
     "text": [
      "\n"
     ]
    }
   ],
   "source": [
    "#  評価データの正解率\n",
    "\n",
    "X_test = test.tokens.progress_apply(bag_of_words)\n",
    "Y_pred = lr.predict(X_test)\n",
    "Y_true = test['category'].map({'b': 0, 't': 1, 'e': 2, 'm': 3})\n",
    "print('正解率', accuracy(Y_pred, Y_true))\n",
    "# doc2vecでは   0.24287856071964017"
   ]
  },
  {
   "cell_type": "markdown",
   "metadata": {},
   "source": [
    "## 55. 混同行列の作成\n",
    "52で学習したロジスティック回帰モデルの混同行列（confusion matrix）を，学習データおよび評価データ上で作成せよ．"
   ]
  },
  {
   "cell_type": "code",
   "execution_count": 15,
   "metadata": {},
   "outputs": [],
   "source": [
    "import numpy as np\n",
    "\n",
    "def confusion_matrix(y_true, y_pred):\n",
    "    size = len(set(y_true))\n",
    "    result = np.array([0]*(size*size)).reshape((size,size)) # 配列の初期化\n",
    "    for t, p in zip(y_true, y_pred):\n",
    "        result[t][p] += 1\n",
    "    return result"
   ]
  },
  {
   "cell_type": "code",
   "execution_count": 16,
   "metadata": {},
   "outputs": [
    {
     "name": "stdout",
     "output_type": "stream",
     "text": [
      "[[498  36  10   9]\n",
      " [ 21 124   4   4]\n",
      " [ 14  14 505   5]\n",
      " [  7   8   7  68]]\n"
     ]
    }
   ],
   "source": [
    "con_matrix = confusion_matrix(Y_true, Y_pred)\n",
    "print(con_matrix)"
   ]
  },
  {
   "cell_type": "markdown",
   "metadata": {},
   "source": [
    "## 56. 適合率，再現率，F1スコアの計測Permalink\n",
    "52で学習したロジスティック回帰モデルの適合率，再現率，F1スコアを，評価データ上で計測せよ．カテゴリごとに適合率，再現率，F1スコアを求め，カテゴリごとの性能をマイクロ平均（micro-average）とマクロ平均（macro-average）で統合せよ．"
   ]
  },
  {
   "cell_type": "code",
   "execution_count": 17,
   "metadata": {},
   "outputs": [],
   "source": [
    "def precision(con_matrix):\n",
    "    size = len(con_matrix)\n",
    "    results = []\n",
    "    for i in range(size):\n",
    "        result = con_matrix[i][i]/sum(con_matrix[i])\n",
    "        results.append(result)\n",
    "    return results\n",
    "    \n",
    "def recall(con_matrix):\n",
    "    size = len(con_matrix)\n",
    "    results = []\n",
    "    for i in range(size):\n",
    "        result = con_matrix[i][i]/sum([row[i] for row in con_matrix])\n",
    "        results.append(result)\n",
    "    return results\n",
    "\n",
    "def f1(pre, rec):\n",
    "    size = len(con_matrix)\n",
    "    results = []\n",
    "    for i in range(size):\n",
    "        result = (2*rec[i]*pre[i])/(rec[i]+pre[i])\n",
    "        results.append(result)\n",
    "    return results"
   ]
  },
  {
   "cell_type": "code",
   "execution_count": 18,
   "metadata": {},
   "outputs": [
    {
     "name": "stdout",
     "output_type": "stream",
     "text": [
      "presition [0.9005424954792043, 0.8104575163398693, 0.9386617100371747, 0.7555555555555555]\n",
      "recall [0.9222222222222223, 0.6813186813186813, 0.9600760456273765, 0.7906976744186046]\n",
      "f1 [0.9112534309240622, 0.7402985074626866, 0.9492481203007519, 0.7727272727272727]\n"
     ]
    }
   ],
   "source": [
    "pre = precision(con_matrix)\n",
    "rec = recall(con_matrix)\n",
    "f1_score = f1(pre, rec)\n",
    "print('presition', pre)\n",
    "print('recall', rec)\n",
    "print('f1', f1_score)\n",
    "# TODO 平均の取り方はf1, recallの段階で変える？"
   ]
  },
  {
   "cell_type": "code",
   "execution_count": 28,
   "metadata": {},
   "outputs": [
    {
     "name": "stdout",
     "output_type": "stream",
     "text": [
      "マクロ平均   \t 適合率： 0.85130431935295092227, 再現率： 0.838579, F1：0.843382\n",
      "マイクロ平均\t 適合率： 0.85130431935295092227, 再現率： 0.838579, F1：0.843382\n"
     ]
    }
   ],
   "source": [
    "# マクロ平均\n",
    "def mean_macro(values):\n",
    "    mean = 0\n",
    "    for value in values:\n",
    "        mean += value\n",
    "    mean /= len(values)\n",
    "    return mean\n",
    "\n",
    "def mean_micro(values):\n",
    "    mean = 0\n",
    "    length = len(values)\n",
    "    for value in values:\n",
    "        mean += value/length\n",
    "    return mean\n",
    "\n",
    "print('マクロ平均   \\t 適合率： %.20f, 再現率： %f, F1：%f' % (mean_macro(pre), mean_macro(rec), mean_macro(f1_score)))\n",
    "print('マイクロ平均\\t 適合率： %.20f, 再現率： %f, F1：%f' % (mean_macro(pre), mean_macro(rec), mean_macro(f1_score)))"
   ]
  },
  {
   "cell_type": "code",
   "execution_count": null,
   "metadata": {},
   "outputs": [],
   "source": [
    "# マクロ平均\n",
    "print('適合率 マクロ平均', np.array(pre).mean())\n",
    "print('再現率 マクロ平均', np.array(rec).mean())\n",
    "print('F1 マクロ平均', np.array(f1_score).mean())"
   ]
  },
  {
   "cell_type": "markdown",
   "metadata": {},
   "source": [
    "## 57. 特徴量の重みの確認Permalink\n",
    "52で学習したロジスティック回帰モデルの中で，重みの高い特徴量トップ10と，重みの低い特徴量トップ10を確認せよ．\n",
    "\n"
   ]
  },
  {
   "cell_type": "code",
   "execution_count": null,
   "metadata": {},
   "outputs": [],
   "source": [
    "lr.coef_"
   ]
  },
  {
   "cell_type": "code",
   "execution_count": 84,
   "metadata": {
    "scrolled": true
   },
   "outputs": [
    {
     "name": "stdout",
     "output_type": "stream",
     "text": [
      "coefficient =  [[-0.63990247 -0.55659616 -1.08942751 ... -0.09404083 -0.06126723\n",
      "  -0.081567  ]\n",
      " [-0.5264873  -0.46478526 -0.4030986  ... -0.05961833 -0.03921252\n",
      "   0.15460631]\n",
      " [ 1.65678062  1.40852714  1.13529375 ...  0.19064374  0.1266009\n",
      "   0.0486148 ]\n",
      " [-0.49039084 -0.38714573  0.35723237 ... -0.03698459 -0.02612115\n",
      "  -0.12165411]]\n",
      "b\n",
      "    word   coef\n",
      "    bank 1.8821\n",
      "     fed 1.8606\n",
      "     ecb 1.8511\n",
      " ukraine 1.7599\n",
      "    euro 1.4933\n",
      " percent 1.4446\n",
      "     buy 1.4222\n",
      "  yellen 1.4072\n",
      "     ceo 1.3854\n",
      "  dollar 1.3758 \n",
      "\n",
      "       word    coef\n",
      " activision -1.6666\n",
      "      aereo -1.3548\n",
      "      ebola -1.2161\n",
      "       baby -1.1517\n",
      "      virus -1.1466\n",
      "      video -1.1096\n",
      "      using -1.1072\n",
      "        her -1.0894\n",
      "         10 -1.0883\n",
      "     people -1.0417 \n",
      "\n",
      "t\n",
      "       word   coef\n",
      "   facebook 2.7562\n",
      "     google 2.6558\n",
      "    climate 2.5433\n",
      "      apple 2.2598\n",
      " heartbleed 2.1715\n",
      "  microsoft 2.1482\n",
      "      tesla 2.0275\n",
      "       moon 2.0117\n",
      "       nasa 1.9386\n",
      "        fcc 1.9197 \n",
      "\n",
      "       word     coef\n",
      "     stocks  -1.1947\n",
      "    percent  -1.1852\n",
      "       drug  -1.1435\n",
      "    thrones  -1.0858\n",
      "    spotify  -1.0426\n",
      "   american  -1.0235\n",
      "     cancer -0.99419\n",
      " california -0.99163\n",
      "    doctors -0.96509\n",
      "       kids  -0.9456 \n",
      "\n",
      "e\n",
      "       word   coef\n",
      "      movie 1.7453\n",
      "      chris 1.7426\n",
      "    thrones 1.7247\n",
      " kardashian 1.6568\n",
      "    beyonce 1.5695\n",
      "       paul 1.5169\n",
      "      miley 1.5013\n",
      "       film 1.4902\n",
      "      music 1.4555\n",
      "      cyrus 1.4424 \n",
      "\n",
      "       word     coef\n",
      "     google  -1.5093\n",
      "       data   -1.223\n",
      "       risk  -1.1903\n",
      " scientists  -1.0856\n",
      "    medical  -1.0747\n",
      "      china  -1.0717\n",
      "      ebola  -1.0615\n",
      "         gm   -1.038\n",
      "        oil  -1.0027\n",
      "    billion -0.99243 \n",
      "\n",
      "m\n",
      "         word   coef\n",
      "        ebola 3.0657\n",
      "       cancer 2.8126\n",
      "          fda 2.4473\n",
      "         mers 2.4289\n",
      "      medical 2.4146\n",
      "         drug   2.27\n",
      "        cases  2.263\n",
      "      doctors 2.2224\n",
      "         aids  2.043\n",
      " e-cigarettes 1.9587 \n",
      "\n",
      "     word     coef\n",
      "  climate  -1.1836\n",
      " facebook  -1.1166\n",
      " internet -0.97859\n",
      "     deal -0.97729\n",
      "       gm -0.95894\n",
      "     even -0.94127\n",
      "    apple -0.92524\n",
      "     back -0.92181\n",
      "      buy -0.91944\n",
      "     king -0.90771 \n",
      "\n"
     ]
    }
   ],
   "source": [
    "print(\"coefficient = \", lr.coef_) # 説明変数の係数（重み）\n",
    "labels = {'b': 0, 't': 1, 'e': 2, 'm': 3}\n",
    "\n",
    "df = pd.DataFrame()\n",
    "df['word'] = vocab\n",
    "\n",
    "for key, value in labels.items():\n",
    "    df['coef'] = lr.coef_[value]\n",
    "    print(key)\n",
    "    print(df.sort_values('coef', ascending=False).head(10).to_string(index=False), '\\n')\n",
    "    print(df.sort_values('coef').head(10).to_string(index=False), '\\n')\n",
    "\n",
    "# print(\"intercept = \", lr.intercept_) # 切片"
   ]
  },
  {
   "cell_type": "markdown",
   "metadata": {},
   "source": [
    "# 58. 正則化パラメータの変更Permalink\n",
    "ロジスティック回帰モデルを学習するとき，正則化パラメータを調整することで，学習時の過学習（overfitting）の度合いを制御できる．異なる正則化パラメータでロジスティック回帰モデルを学習し，学習データ，検証データ，および評価データ上の正解率を求めよ．実験の結果は，正則化パラメータを横軸，正解率を縦軸としたグラフにまとめよ．"
   ]
  },
  {
   "cell_type": "code",
   "execution_count": 97,
   "metadata": {
    "scrolled": true
   },
   "outputs": [
    {
     "data": {
      "image/png": "[encoded data removed]",
      "text/plain": [
       "<Figure size 432x288 with 1 Axes>"
      ]
     },
     "metadata": {
      "needs_background": "light"
     },
     "output_type": "display_data"
    }
   ],
   "source": [
    "from matplotlib import pyplot as plt\n",
    "import japanize_matplotlib\n",
    "x = []\n",
    "y = []\n",
    "Y_train = train['category'].map({'b': 0, 't': 1, 'e': 2, 'm': 3}) # クラスを定義\n",
    "Y_test = test['category'].map({'b': 0, 't': 1, 'e': 2, 'm': 3})\n",
    "params = [i / 100 for i in range(1, 100, 5)]\n",
    "for param in params:\n",
    "    # 学習\n",
    "    lr = LogisticRegression(class_weight='balanced', C=param) # ロジスティック回帰モデルのインスタンスを作成\n",
    "    lr.fit(X_train, Y_train) # ロジスティック回帰モデルの重みを学習\n",
    "    #  予測\n",
    "    X_test = test.tokens.progress_apply(bag_of_words)\n",
    "    Y_pred = lr.predict(X_test)\n",
    "\n",
    "    x.append(param)\n",
    "    y.append(accuracy(Y_pred, Y_test))\n",
    "\n",
    "plt.plot(x, y)\n",
    "plt.xlabel('正規化パラメータ')\n",
    "plt.ylabel('正解率')\n",
    "plt.title('正則化パラメータと正解率')\n",
    "plt.show()"
   ]
  },
  {
   "cell_type": "markdown",
   "metadata": {},
   "source": [
    "## 59. ハイパーパラメータの探索Permalink\n",
    "学習アルゴリズムや学習パラメータを変えながら，カテゴリ分類モデルを学習せよ．検証データ上の正解率が最も高くなる学習アルゴリズム・パラメータを求めよ．また，その学習アルゴリズム・パラメータを用いたときの評価データ上の正解率を求めよ．"
   ]
  },
  {
   "cell_type": "code",
   "execution_count": 103,
   "metadata": {},
   "outputs": [
    {
     "name": "stdout",
     "output_type": "stream",
     "text": [
      "正答率: 0.7083958020989505\n",
      "正答率: 0.7736131934032984\n",
      "正答率: 0.8103448275862069\n",
      "正答率: 0.8320839580209896\n",
      "正答率: 0.8455772113943029\n",
      "正答率: 0.8620689655172413\n",
      "正答率: 0.8695652173913043\n",
      "正答率: 0.8740629685157422\n",
      "正答率: 0.881559220389805\n"
     ]
    },
    {
     "data": {
      "image/png": "[encoded data removed]",
      "text/plain": [
       "<Figure size 432x288 with 1 Axes>"
      ]
     },
     "metadata": {
      "needs_background": "light"
     },
     "output_type": "display_data"
    }
   ],
   "source": [
    "from sklearn.svm import SVC\n",
    "x = []\n",
    "y = []\n",
    "Y_test = test['category'].map({'b': 0, 't': 1, 'e': 2, 'm': 3})\n",
    "params = [i / 10 for i in range(1, 10, 1)]\n",
    "for param in params:\n",
    "    # 学習\n",
    "    svm = SVC(C=param)\n",
    "    svm.fit(X_train, Y_train)\n",
    "    Y_pred = svm.predict(X_test)\n",
    "    x.append(param)\n",
    "    y.append(accuracy(Y_pred, Y_test))\n",
    "    print('正答率: {}' .format(y[-1]))\n",
    "\n",
    "plt.plot(x, y)\n",
    "plt.xlabel('正規化パラメータ')\n",
    "plt.ylabel('正解率')\n",
    "plt.title('正則化パラメータと正解率')\n",
    "plt.show()"
   ]
  },
  {
   "cell_type": "code",
   "execution_count": 100,
   "metadata": {},
   "outputs": [
    {
     "name": "stdout",
     "output_type": "stream",
     "text": [
      "正答率: 0.5524737631184408\n"
     ]
    }
   ],
   "source": [
    "# K-NearestNeighbor（K近傍法）\n",
    "from sklearn.neighbors import KNeighborsClassifier\n",
    "knn = KNeighborsClassifier()\n",
    "knn.fit(X_train, Y_train)\n",
    "\n",
    "score = knn.score(X_test, Y_true)\n",
    "print('正答率: {}' .format(score))"
   ]
  },
  {
   "cell_type": "code",
   "execution_count": 101,
   "metadata": {},
   "outputs": [
    {
     "name": "stdout",
     "output_type": "stream",
     "text": [
      "正答率: 0.8118440779610195\n"
     ]
    }
   ],
   "source": [
    "# ランダムフォレスト\n",
    "from sklearn.tree import DecisionTreeClassifier\n",
    "random_forest = DecisionTreeClassifier()\n",
    "random_forest.fit(X_train, Y_train)\n",
    "\n",
    "score = random_forest.score(X_test, Y_true)\n",
    "print('正答率: {}' .format(score))"
   ]
  }
 ],
 "metadata": {
  "kernelspec": {
   "display_name": "Python 3",
   "language": "python",
   "name": "python3"
  },
  "language_info": {
   "codemirror_mode": {
    "name": "ipython",
    "version": 3
   },
   "file_extension": ".py",
   "mimetype": "text/x-python",
   "name": "python",
   "nbconvert_exporter": "python",
   "pygments_lexer": "ipython3",
   "version": "3.8.0"
  }
 },
 "nbformat": 4,
 "nbformat_minor": 4
}
